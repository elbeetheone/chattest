{
 "cells": [
  {
   "cell_type": "code",
   "execution_count": 1,
   "id": "c76810a2-77cd-4407-adfe-60c16c4a57c1",
   "metadata": {},
   "outputs": [],
   "source": [
    "from gensim.models import Word2Vec, KeyedVectors"
   ]
  },
  {
   "cell_type": "code",
   "execution_count": 16,
   "id": "78f73b4d-6a24-4122-99ed-ea496ba48078",
   "metadata": {},
   "outputs": [],
   "source": [
    "import gdown"
   ]
  },
  {
   "cell_type": "code",
   "execution_count": 23,
   "id": "b233e8f6-4fb0-4dff-b934-0ae2e698f79c",
   "metadata": {},
   "outputs": [],
   "source": [
    "response = requests.get('https://drive.google.com/file/d/1P3jYHA7dcajXRU52jscyjc7pIXRkRbmC/view?usp=drive_link')"
   ]
  },
  {
   "cell_type": "code",
   "execution_count": 17,
   "id": "53c8d3a1-ed3a-471a-b1bf-00242bd7e653",
   "metadata": {},
   "outputs": [],
   "source": [
    "url = 'https://drive.google.com/file/d/1P3jYHA7dcajXRU52jscyjc7pIXRkRbmC/view?usp=drive_link'\n",
    "output = 'vectoprs.npy'"
   ]
  },
  {
   "cell_type": "code",
   "execution_count": 26,
   "id": "1c2d615e-22e3-4eb0-9326-5d6e548ce270",
   "metadata": {},
   "outputs": [],
   "source": [
    "import os\n",
    "\n",
    "def load_file():\n",
    "  # ... (your existing code to download the file)\n",
    "  if response.status_code == 200:\n",
    "    # Get a shorter filename (replace with your logic)\n",
    "    new_filename = os.path.splitext(os.path.basename(url))[0]  # Extract filename without extension\n",
    "    new_filename = new_filename[:20] + \".npy\"  # Shorten to 20 characters and add extension\n",
    "\n",
    "    # Save the content with the new filename\n",
    "    with open(new_filename, 'wb') as f:\n",
    "      f.write(response.content)\n",
    "\n",
    "    # Now load the file using the new filename\n",
    "    return np.load(new_filename, allow_pickle=True)"
   ]
  },
  {
   "cell_type": "code",
   "execution_count": 28,
   "id": "2152be2f-2ebb-4c28-8430-387755a9020b",
   "metadata": {},
   "outputs": [
    {
     "data": {
      "text/plain": [
       "'uc?id=1P3jYHA7dcajXRU52jscyjc7pIXRkRbmC'"
      ]
     },
     "execution_count": 28,
     "metadata": {},
     "output_type": "execute_result"
    }
   ],
   "source": [
    "os.path.splitext(os.path.basename(url))[0]"
   ]
  },
  {
   "cell_type": "code",
   "execution_count": 31,
   "id": "3614bbb0-35c3-4912-b6b2-cd0d52388541",
   "metadata": {},
   "outputs": [],
   "source": [
    "from gensim.test.utils import lee_corpus_list\n",
    "from gensim.models import Word2Vec\n",
    "\n",
    "model = Word2Vec(lee_corpus_list, vector_size=24, epochs=100)"
   ]
  },
  {
   "cell_type": "code",
   "execution_count": 39,
   "id": "5a5fd2fa-a601-4adc-886f-a7a73bf36fca",
   "metadata": {},
   "outputs": [],
   "source": [
    "model_wiki.save('vectors.kv')"
   ]
  },
  {
   "cell_type": "code",
   "execution_count": 40,
   "id": "3e26a96f-b438-43f5-82dc-cc7b41b6fcb6",
   "metadata": {},
   "outputs": [],
   "source": [
    "wv = KeyedVectors.load('vectors.kv')"
   ]
  },
  {
   "cell_type": "code",
   "execution_count": 64,
   "id": "fe5bbbf9-e25d-4c4c-8f3d-69a167e4925e",
   "metadata": {},
   "outputs": [],
   "source": [
    "word = list(model_wiki.key_to_index.keys())"
   ]
  },
  {
   "cell_type": "code",
   "execution_count": 63,
   "id": "908d7aab-74e9-4348-a72d-298b250dccd1",
   "metadata": {},
   "outputs": [
    {
     "data": {
      "text/plain": [
       "400000"
      ]
     },
     "execution_count": 63,
     "metadata": {},
     "output_type": "execute_result"
    }
   ],
   "source": [
    "len(words)\n",
    "\n",
    "\n"
   ]
  },
  {
   "cell_type": "code",
   "execution_count": 57,
   "id": "919edb0a-87cc-43bb-aca6-8b2d115c51fa",
   "metadata": {},
   "outputs": [
    {
     "ename": "NameError",
     "evalue": "name 'word_vectors' is not defined",
     "output_type": "error",
     "traceback": [
      "\u001b[0;31m---------------------------------------------------------------------------\u001b[0m",
      "\u001b[0;31mNameError\u001b[0m                                 Traceback (most recent call last)",
      "Cell \u001b[0;32mIn [57], line 1\u001b[0m\n\u001b[0;32m----> 1\u001b[0m \u001b[43mword_vectors\u001b[49m\n",
      "\u001b[0;31mNameError\u001b[0m: name 'word_vectors' is not defined"
     ]
    }
   ],
   "source": [
    "def paste_budz():\n",
    "    def has_more_than_five_similars(word, web2lowerset, wv):\n",
    "        similar_words = [similar_word[0] for similar_word in wv.most_similar(word, topn=10)]\n",
    "        return len([sw for sw in similar_words if sw in web2lowerset]) > 5\n",
    "    \n",
    "    # Filter words by length and presence in web2lowerset\n",
    "    ran_letter = [num for num in words if len(num) >= 5 and num in web2lowerset]\n",
    "    \n",
    "    # Ensure today_words has 5 words that meet the condition\n",
    "    today_words = []\n",
    "    while len(today_words) < 5:\n",
    "        candidate = random.choice(ran_letter)  # Choose a random word from ran_letter\n",
    "        # Add the candidate if it meets the condition and isn't already in today_words\n",
    "        if has_more_than_five_similars(candidate, web2lowerset, wv) and candidate not in today_words:\n",
    "            today_words.append(candidate)\n",
    "    "
   ]
  },
  {
   "cell_type": "code",
   "execution_count": 50,
   "id": "501fa4f9-c833-4bb9-b1a9-ac0ca8b4932b",
   "metadata": {},
   "outputs": [
    {
     "data": {
      "text/plain": [
       "[('respiratory', 0.8298466801643372),\n",
       " ('intestinal', 0.7943927645683289),\n",
       " ('digestive', 0.775139570236206),\n",
       " ('inflammation', 0.77007657289505),\n",
       " ('constipation', 0.7664951682090759),\n",
       " ('sinus', 0.7663350701332092),\n",
       " ('diarrhea', 0.7565568685531616),\n",
       " ('nausea', 0.7548558115959167),\n",
       " ('disorders', 0.754552960395813),\n",
       " ('bowel', 0.7518218159675598)]"
      ]
     },
     "execution_count": 50,
     "metadata": {},
     "output_type": "execute_result"
    }
   ],
   "source": [
    "wv = KeyedVectors.load('google_50_vectors.kv')\n",
    "words = list(wv.key_to_index.keys())"
   ]
  }
 ],
 "metadata": {
  "kernelspec": {
   "display_name": "Python 3 (ipykernel)",
   "language": "python",
   "name": "python3"
  },
  "language_info": {
   "codemirror_mode": {
    "name": "ipython",
    "version": 3
   },
   "file_extension": ".py",
   "mimetype": "text/x-python",
   "name": "python",
   "nbconvert_exporter": "python",
   "pygments_lexer": "ipython3",
   "version": "3.10.6"
  }
 },
 "nbformat": 4,
 "nbformat_minor": 5
}
